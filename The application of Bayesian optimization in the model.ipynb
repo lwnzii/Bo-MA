{
 "cells": [
  {
   "cell_type": "code",
   "execution_count": 1,
   "metadata": {},
   "outputs": [],
   "source": [
    "import pandas as pd\n",
    "import numpy as np\n",
    "import matplotlib.pyplot as plt\n",
    "from pandas import read_csv\n",
    "from pylab import mpl\n",
    "import random\n",
    "import keras\n",
    "from math import sqrt\n",
    "import tensorflow as tf\n",
    " \n",
    "from tensorflow.keras.optimizers import Adam\n",
    "from tensorflow.keras.models import Model\n",
    "from collections import deque\n",
    "from sklearn.model_selection import train_test_split\n",
    "from sklearn.preprocessing import MinMaxScaler\n",
    "from tensorflow.keras.models import Sequential\n",
    "from tensorflow.keras import layers\n",
    "from keras.layers import Dense,LSTM,BatchNormalization,Dropout,SimpleRNN,Activation,Input,Flatten\n",
    "from tensorflow.keras.layers import Conv2D\n",
    "from sklearn.metrics import r2_score, mean_squared_error, mean_absolute_error\n",
    "from tensorflow.keras.utils import plot_model\n",
    "from keras.losses import mape\n",
    "from keras import optimizers\n",
    "from scipy.io import loadmat,savemat\n",
    "\n",
    "\n",
    "\n",
    "import warnings\n",
    "warnings.filterwarnings('ignore')"
   ]
  },
  {
   "cell_type": "code",
   "execution_count": 2,
   "metadata": {},
   "outputs": [],
   "source": [
    "dataset = pd.read_excel(\"横波反演数据.xlsx\",sheet_name='yq3')"
   ]
  },
  {
   "cell_type": "code",
   "execution_count": 3,
   "metadata": {},
   "outputs": [],
   "source": [
    "dataset['RT-电阻率']=np.log10(dataset['RT-电阻率'])"
   ]
  },
  {
   "cell_type": "code",
   "execution_count": 4,
   "metadata": {},
   "outputs": [],
   "source": [
    "colunms=['CNL-中子','DEN-密度','GR-自然伽马','VP-纵波速度','RT-电阻率']     \n",
    "scaler=MinMaxScaler()\n",
    "scaler1=MinMaxScaler()\n",
    "for col in colunms:\n",
    "    dataset[col]=scaler.fit_transform(dataset[col].values.reshape(-1,1))\n",
    "dataset['VS-横波速度']=scaler1.fit_transform(dataset['VS-横波速度'].values.reshape(-1,1))   "
   ]
  },
  {
   "cell_type": "code",
   "execution_count": 5,
   "metadata": {},
   "outputs": [],
   "source": [
    "x=dataset.loc[:,['CNL-中子','DEN-密度','GR-自然伽马','VP-纵波速度','RT-电阻率']]\n",
    "y=dataset['VS-横波速度']"
   ]
  },
  {
   "cell_type": "code",
   "execution_count": 6,
   "metadata": {},
   "outputs": [],
   "source": [
    "X_train,X_test,y_train,y_test=train_test_split(x,y,test_size=0.3,random_state=666,shuffle=False)"
   ]
  },
  {
   "cell_type": "code",
   "execution_count": 7,
   "metadata": {},
   "outputs": [],
   "source": [
    "def windows(x,y,days):\n",
    "    features=[]\n",
    "    targets=[]\n",
    "    \n",
    "    x=scaler.fit_transform(x.iloc[:,:])\n",
    "    deq=deque(maxlen=days)\n",
    "    for i in x:\n",
    "        deq.append(list(i))\n",
    "        if days==len(deq):\n",
    "            features.append(list(deq))\n",
    "            \n",
    "            \n",
    "    x=features[:]        \n",
    "    targets=y.values[days-1:]\n",
    "    \n",
    "    \n",
    "    return np.array(x),np.array(targets)"
   ]
  },
  {
   "cell_type": "code",
   "execution_count": 8,
   "metadata": {},
   "outputs": [],
   "source": [
    "train_dataset,train_labels=windows(X_train,y_train,3)\n",
    "test_dataset,test_labels=windows(X_test,y_test,3)"
   ]
  },
  {
   "cell_type": "code",
   "execution_count": 9,
   "metadata": {},
   "outputs": [],
   "source": [
    "train1=np.expand_dims(train_dataset,axis=3)\n",
    "test1=np.expand_dims(test_dataset,axis=3)"
   ]
  },
  {
   "cell_type": "code",
   "execution_count": 10,
   "metadata": {},
   "outputs": [],
   "source": [
    "def create_batch_dataset(X, y, train=True, buffer_size=1000, batch_size=128):\n",
    "    batch_data = tf.data.Dataset.from_tensor_slices((tf.constant(X), tf.constant(y)))\n",
    "    if train: \n",
    "        return batch_data.cache().shuffle(buffer_size).batch(batch_size)\n",
    "    else: \n",
    "        return batch_data.batch(batch_size)"
   ]
  },
  {
   "cell_type": "code",
   "execution_count": 11,
   "metadata": {},
   "outputs": [],
   "source": [
    "train_batch_dataset = create_batch_dataset(train_dataset, train_labels)\n",
    "test_batch_dataset = create_batch_dataset(test_dataset, test_labels, train=False)"
   ]
  },
  {
   "cell_type": "code",
   "execution_count": 12,
   "metadata": {},
   "outputs": [],
   "source": [
    "class Attention_Conv2D(keras.layers.Layer):\n",
    "    def __init__(self, filters=None, num_heads=None, gamma=0.01, activation='relu', return_attention_scores=False, trainable=True):\n",
    "        super().__init__(trainable=trainable)\n",
    "        self.gamma = tf.Variable(initial_value=gamma, trainable=True, name='gamma')\n",
    "        self.f = None\n",
    "        self.g = None\n",
    "        self.h = None\n",
    "        self.v = None\n",
    "        self.attention = None\n",
    "        self.num_heads = num_heads\n",
    "        self.c = filters\n",
    "        self.activation = activation\n",
    "\n",
    "    def build(self, input_shape):\n",
    "\n",
    "        if self.c is None:\n",
    "            self.c = input_shape[-1]\n",
    "\n",
    "        if self.num_heads is None:\n",
    "            self.num_heads = input_shape[-1]\n",
    "\n",
    "        self.f = self.block(self.num_heads) # [n, w*h, heads]\n",
    "        self.g = self.block(self.num_heads) # [n, w*h, heads]\n",
    "        self.h = self.block(self.num_heads) # [n, w*h, heads]\n",
    "\n",
    "        # output feature maps -> [n, w, h, filters]\n",
    "        self.v = layers.Conv2D(self.c, 1, 1, activation=self.activation)\n",
    "\n",
    "    @staticmethod\n",
    "    def block(head):\n",
    "        return keras.Sequential([\n",
    "            layers.Conv2D(head, 1, 1),   # [n, w, h, heads] 1*1conv\n",
    "            layers.Reshape((-1, head)),  # [n, w*h, heads]\n",
    "            ])\n",
    "\n",
    "    def call(self, inputs, **kwargs):\n",
    "        f = self.f(inputs)    # [n, w*h, heads]\n",
    "        g = self.g(inputs)    # [n, w*h, heads]\n",
    "        h = self.h(inputs)    # [n, w*h, heads]\n",
    "        s = tf.matmul(f, g, transpose_b=True)   # [n, w*h, heads] @ [n, heads, w*h] = [n, w*h, w*h]\n",
    "        self.attention = tf.nn.softmax(s, axis=-1)\n",
    "        context_wh = tf.matmul(self.attention, h)  # [n, w*h, w*h] @ [n, w*h, heads] = [n, w*h, heads]\n",
    "        d = inputs.shape        # [n, w, h, channels]\n",
    "        cs = context_wh.shape   # [n, w*h, heads]\n",
    "        context = self.gamma * tf.reshape(context_wh, [-1, d[1], d[2], cs[-1]])    # [n, w, h, c]\n",
    "        o = self.v(context) + inputs   # residual -> [n, w, h, filters]\n",
    "\n",
    "        return tf.reshape(o,[-1,3,5,1])"
   ]
  },
  {
   "cell_type": "code",
   "execution_count": 13,
   "metadata": {},
   "outputs": [],
   "source": [
    "def attention_model4():\n",
    "    inputs = Input(train1.shape[-3:])\n",
    "\n",
    "    x=Attention_Conv2D(1, activation='relu', num_heads=32, return_attention_scores=True)(inputs)\n",
    "    x=Dropout(0.1)(x)\n",
    "    x = BatchNormalization()(x)\n",
    "    x = Conv2D(256, (2,5), padding=\"same\",activation=\"relu\",kernel_regularizer=keras.regularizers.l2(0.01))(x)  #, padding = 'same'\n",
    "    x = Dropout(0.1)(x)\n",
    "#     x = BatchNormalization()(x)\n",
    "#     x = Conv2D(10, (2,1), padding=\"same\", activation=\"relu\")(x)\n",
    "#     x = BatchNormalization()(x)\n",
    "#     x = Dropout(0.1)(x)\n",
    "      \n",
    "#     lstm_out = tf.keras.layers.Bidirectional(LSTM(32,return_sequences=True,kernel_regularizer=keras.regularizers.l2(0.01)))(x[:,:,:,0])\n",
    "#     lstm_out = Dropout(0.1)(lstm_out)\n",
    "#     lstm_out = BatchNormalization()(lstm_out)\n",
    "#     lstm_out = tf.keras.layers.Bidirectional(LSTM(16,return_sequences=True,kernel_regularizer=keras.regularizers.l2(0.01)))(lstm_out)\n",
    "#     lstm_out = Dropout(0.1)(lstm_out)\n",
    "#     lstm_out = BatchNormalization()(lstm_out)\n",
    "    attention_mul = Flatten()(x)\n",
    "\n",
    "    output = Dense(1, activation='sigmoid')(attention_mul)\n",
    "    model = Model(inputs=[inputs], outputs=[output])\n",
    "    model.compile(loss=['MSE'],optimizer=tf.keras.optimizers.Adam(learning_rate=0.004, beta_1=0.9),)\n",
    "    return model"
   ]
  },
  {
   "cell_type": "code",
   "execution_count": 14,
   "metadata": {},
   "outputs": [],
   "source": [
    "def build_model(mul_head,hid_dim0):\n",
    "    inputs = Input(train1.shape[-3:])\n",
    "    \n",
    "\n",
    "    \n",
    "    x=Attention_Conv2D(1, activation='relu', num_heads=mul_head, return_attention_scores=True)(inputs)\n",
    "    x=Dropout(0.1)(x)\n",
    "    x = BatchNormalization()(x)\n",
    "    x = Conv2D(hid_dim0, (3,5), padding=\"same\",activation=\"relu\",kernel_regularizer=keras.regularizers.l2(0.01))(inputs)  #, padding = 'same'\n",
    "    x = Dropout(0.1)(x)\n",
    "    x = BatchNormalization()(x)\n",
    "#     x = Conv2D(hid_dim1, (3,5), padding=\"same\",activation=\"relu\",kernel_regularizer=keras.regularizers.l2(0.01))(x)  #, padding = 'same'\n",
    "#     x = Dropout(0.1)(x)\n",
    "#     x = BatchNormalization()(x)\n",
    "#     x = Conv2D(hid_dim2, (3,5), padding=\"same\",activation=\"relu\",kernel_regularizer=keras.regularizers.l2(0.01))(x)  #, padding = 'same'\n",
    "#     x = Dropout(0.1)(x)\n",
    "#     x = BatchNormalization()(x)\n",
    "    \n",
    "#     lstm_out = tf.keras.layers.LSTM(hid_dim1,return_sequences=True,kernel_regularizer=keras.regularizers.l2(0.01))(x[:,:,:,0])\n",
    "#     lstm_out = Dropout(0.1)(lstm_out)\n",
    "#     lstm_out = BatchNormalization()(lstm_out)\n",
    "#     lstm_out = tf.keras.layers.LSTM(hid_dim2,return_sequences=True)(lstm_out)\n",
    "#     lstm_out = Dropout(0.1)(lstm_out)\n",
    "#     lstm_out = BatchNormalization()(lstm_out)\n",
    "    lstm_out = Dense(10,activation=\"relu\")(x)  # 全连接层数 Number of fully connected layers\n",
    "    attention_mul = Flatten()(lstm_out)\n",
    "\n",
    "\n",
    "    output = Dense(1, activation='sigmoid')(attention_mul)\n",
    "    model = Model(inputs=[inputs], outputs=[output])\n",
    "    return model"
   ]
  },
  {
   "cell_type": "code",
   "execution_count": 15,
   "metadata": {},
   "outputs": [],
   "source": [
    "def fit_params(train1.shape[-3:],train_batch_dataset,test_batch_dataset,train_labels,test_labels,**result):\n",
    "    model=build_model(result['mul_head'],result['cnn_layers'])\n",
    "    model.compile(loss='mse', optimizer=tf.keras.optimizers.SGD(result['lr']), metrics=['mean_squared_error'])\n",
    "    model.fit(train_batch_dataset,epochs=result['epochs'],verbose=0,\n",
    "                    validation_data=test_batch_dataset)\n",
    "    yhat = model.predict(train_batch_dataset, verbose=0) #预测\n",
    "    \n",
    "    return np.mean(np.square((yhat-train_labels)))"
   ]
  },
  {
   "cell_type": "code",
   "execution_count": 18,
   "metadata": {},
   "outputs": [
    {
     "name": "stdout",
     "output_type": "stream",
     "text": [
      "iteration 1 = 0.036260393651294506 [57, 50, 42, 28, 0.0064724642197745725]\n",
      "iteration 2 = 0.036260393651294506 [57, 50, 42, 28, 0.0064724642197745725]\n",
      "iteration 3 = 0.035075349247503454 [56, 53, 41, 27, 0.006356192688847642]\n",
      "iteration 4 = 0.035075349247503454 [56, 53, 41, 27, 0.006356192688847642]\n",
      "iteration 5 = 0.035075349247503454 [56, 53, 41, 27, 0.006356192688847642]\n",
      "iteration 6 = 0.035075349247503454 [56, 53, 41, 27, 0.006356192688847642]\n",
      "iteration 7 = 0.035075349247503454 [56, 53, 41, 27, 0.006356192688847642]\n",
      "iteration 8 = 0.035075349247503454 [56, 53, 41, 27, 0.006356192688847642]\n",
      "iteration 9 = 0.035075349247503454 [56, 53, 41, 27, 0.006356192688847642]\n",
      "iteration 10 = 0.035075349247503454 [56, 53, 41, 27, 0.006356192688847642]\n"
     ]
    }
   ],
   "source": [
    "from functools import partial\n",
    "\n",
    "fit_with_partial = partial(fit_params, train1.shape[-3:], train_batch_dataset,test_batch_dataset)\n",
    "\n",
    "from bayes_opt import BayesianOptimization\n",
    "\n",
    "# Bounded region of parameter space\n",
    "pbounds = {'mul_head':(50,70), 'cnn_layers':(50, 60), 'batch_size':(42, 50), 'epochs': (20,30), 'lr': (0.006,0.007)}\n",
    "\n",
    "# Setting up the optimiser\n",
    "optimizer = BayesianOptimization(\n",
    "    f=fit_with_partial,\n",
    "    pbounds=pbounds,\n",
    "    verbose=2, \n",
    "    random_state=1,\n",
    ")\n",
    "\n",
    "# Start the parameter search\n",
    "optimizer.maximize(init_points=5, n_iter=4)\n",
    "\n",
    "# Print the results for each iteration\n",
    "for i, res in enumerate(optimizer.res):\n",
    "     print (\"iteration\",i+1,\"=\",optimizer.res,[reslust[i] if i==dim-1 else int(reslust[i]) for i in range(len(relust))])"
   ]
  },
  {
   "cell_type": "code",
   "execution_count": 19,
   "metadata": {},
   "outputs": [
    {
     "data": {
      "image/png": "[encoded data removed]",
      "text/plain": [
       "<Figure size 432x288 with 1 Axes>"
      ]
     },
     "metadata": {
      "needs_background": "light"
     },
     "output_type": "display_data"
    }
   ],
   "source": [
    "    plt.rcParams['font.sans-serif'] = ['SimHei'] #防止中文乱码\n",
    "    plt.rcParams['axes.unicode_minus']=False\n",
    "    plt.figure()\n",
    "    plt.plot(trace)\n",
    "    plt.xlabel('iteration')\n",
    "    plt.ylabel('适应度值')\n",
    "    plt.title(\"Bayes适应度曲线图\")\n",
    "#     plt.savefig('Bayes适应度曲线.png')\n",
    "    plt.show()"
   ]
  },
  {
   "cell_type": "code",
   "execution_count": 35,
   "metadata": {},
   "outputs": [],
   "source": [
    "result = np.array(result)"
   ]
  },
  {
   "cell_type": "code",
   "execution_count": 36,
   "metadata": {},
   "outputs": [
    {
     "ename": "IndexError",
     "evalue": "too many indices for array: array is 1-dimensional, but 2 were indexed",
     "output_type": "error",
     "traceback": [
      "\u001b[1;31m---------------------------------------------------------------------------\u001b[0m",
      "\u001b[1;31mIndexError\u001b[0m                                Traceback (most recent call last)",
      "\u001b[1;32m<ipython-input-36-7a8c8a1e13f1>\u001b[0m in \u001b[0;36m<module>\u001b[1;34m()\u001b[0m\n\u001b[1;32m----> 1\u001b[1;33m \u001b[0mresult\u001b[0m\u001b[1;33m=\u001b[0m\u001b[0mresult\u001b[0m\u001b[1;33m[\u001b[0m\u001b[1;33m-\u001b[0m\u001b[1;36m1\u001b[0m\u001b[1;33m:\u001b[0m\u001b[1;33m,\u001b[0m\u001b[1;33m:\u001b[0m\u001b[1;33m]\u001b[0m\u001b[1;33m.\u001b[0m\u001b[0mreshape\u001b[0m\u001b[1;33m(\u001b[0m\u001b[1;33m-\u001b[0m\u001b[1;36m1\u001b[0m\u001b[1;33m,\u001b[0m\u001b[1;33m)\u001b[0m\u001b[1;33m\u001b[0m\u001b[0m\n\u001b[0m",
      "\u001b[1;31mIndexError\u001b[0m: too many indices for array: array is 1-dimensional, but 2 were indexed"
     ]
    }
   ],
   "source": [
    "result=result[-1:,:].reshape(-1,)"
   ]
  },
  {
   "cell_type": "code",
   "execution_count": 39,
   "metadata": {},
   "outputs": [],
   "source": [
    "def build_model1(result):\n",
    "    inputs = Input(train1.shape[-3:])\n",
    "    \n",
    "    x=Attention_Conv2D(1, activation='relu', num_heads=int(result['mul_head']), return_attention_scores=True)(inputs)\n",
    "    x=Dropout(0.1)(x)\n",
    "    x = Conv2D(int(result['cnn_layers']), (3,5), padding=\"same\",activation=\"relu\")(inputs)  #, padding = 'same'\n",
    "    x = Dropout(0.1)(x)\n",
    "    x = BatchNormalization()(x)    \n",
    "\n",
    "    lstm_out = Dense(10,activation=\"relu\")(x) \n",
    "    attention_mul = Flatten()(lstm_out)\n",
    "\n",
    "\n",
    "    output = Dense(1, activation='sigmoid')(attention_mul)\n",
    "    model = Model(inputs=[inputs], outputs=[output])\n",
    "    model.compile(optimizer=tf.keras.optimizers.Adam(result['lr'], beta_1=0.5),#学习率  learning rate\n",
    "                  loss=\"mean_squared_error\")#回归问题，损失函数使用均方误差  Regression problem, loss function using mean square error\n",
    "    \n",
    "    return model"
   ]
  },
  {
   "cell_type": "code",
   "execution_count": 40,
   "metadata": {},
   "outputs": [],
   "source": [
    "model = build_model1(result)"
   ]
  },
  {
   "cell_type": "code",
   "execution_count": 41,
   "metadata": {},
   "outputs": [
    {
     "name": "stdout",
     "output_type": "stream",
     "text": [
      "Model: \"model_111\"\n",
      "_________________________________________________________________\n",
      "Layer (type)                 Output Shape              Param #   \n",
      "=================================================================\n",
      "input_117 (InputLayer)       [(None, 3, 5, 1)]         0         \n",
      "_________________________________________________________________\n",
      "conv2d_111 (Conv2D)          (None, 3, 5, 27)          432       \n",
      "_________________________________________________________________\n",
      "dropout_225 (Dropout)        (None, 3, 5, 27)          0         \n",
      "_________________________________________________________________\n",
      "batch_normalization_221 (Bat (None, 3, 5, 27)          108       \n",
      "_________________________________________________________________\n",
      "dense_222 (Dense)            (None, 3, 5, 10)          280       \n",
      "_________________________________________________________________\n",
      "flatten_111 (Flatten)        (None, 150)               0         \n",
      "_________________________________________________________________\n",
      "dense_223 (Dense)            (None, 1)                 151       \n",
      "=================================================================\n",
      "Total params: 971\n",
      "Trainable params: 917\n",
      "Non-trainable params: 54\n",
      "_________________________________________________________________\n"
     ]
    }
   ],
   "source": [
    "model.summary()"
   ]
  },
  {
   "cell_type": "code",
   "execution_count": 45,
   "metadata": {},
   "outputs": [
    {
     "name": "stdout",
     "output_type": "stream",
     "text": [
      "Epoch 1/27\n",
      "35/35 [==============================] - 0s 4ms/step - loss: 0.0015 - val_loss: 0.0033\n",
      "Epoch 2/27\n",
      "35/35 [==============================] - 0s 4ms/step - loss: 0.0015 - val_loss: 0.0027\n",
      "Epoch 3/27\n",
      "35/35 [==============================] - 0s 4ms/step - loss: 0.0014 - val_loss: 0.0029\n",
      "Epoch 4/27\n",
      "35/35 [==============================] - 0s 5ms/step - loss: 0.0015 - val_loss: 0.0026\n",
      "Epoch 5/27\n",
      "35/35 [==============================] - 0s 4ms/step - loss: 0.0014 - val_loss: 0.0024\n",
      "Epoch 6/27\n",
      "35/35 [==============================] - 0s 4ms/step - loss: 0.0014 - val_loss: 0.0028\n",
      "Epoch 7/27\n",
      "35/35 [==============================] - 0s 4ms/step - loss: 0.0014 - val_loss: 0.0024\n",
      "Epoch 8/27\n",
      "35/35 [==============================] - 0s 4ms/step - loss: 0.0014 - val_loss: 0.0027\n",
      "Epoch 9/27\n",
      "35/35 [==============================] - 0s 4ms/step - loss: 0.0015 - val_loss: 0.0028\n",
      "Epoch 10/27\n",
      "35/35 [==============================] - 0s 4ms/step - loss: 0.0015 - val_loss: 0.0030\n",
      "Epoch 11/27\n",
      "35/35 [==============================] - 0s 4ms/step - loss: 0.0014 - val_loss: 0.0025\n",
      "Epoch 12/27\n",
      "35/35 [==============================] - 0s 4ms/step - loss: 0.0015 - val_loss: 0.0025\n",
      "Epoch 13/27\n",
      "35/35 [==============================] - 0s 4ms/step - loss: 0.0014 - val_loss: 0.0025\n",
      "Epoch 14/27\n",
      "35/35 [==============================] - 0s 5ms/step - loss: 0.0014 - val_loss: 0.0025\n",
      "Epoch 15/27\n",
      "35/35 [==============================] - 0s 6ms/step - loss: 0.0014 - val_loss: 0.0032\n",
      "Epoch 16/27\n",
      "35/35 [==============================] - 0s 6ms/step - loss: 0.0014 - val_loss: 0.0026\n",
      "Epoch 17/27\n",
      "35/35 [==============================] - 0s 4ms/step - loss: 0.0014 - val_loss: 0.0027\n",
      "Epoch 18/27\n",
      "35/35 [==============================] - 0s 4ms/step - loss: 0.0014 - val_loss: 0.0026\n",
      "Epoch 19/27\n",
      "35/35 [==============================] - 0s 4ms/step - loss: 0.0014 - val_loss: 0.0025\n",
      "Epoch 20/27\n",
      "35/35 [==============================] - 0s 6ms/step - loss: 0.0014 - val_loss: 0.0026\n",
      "Epoch 21/27\n",
      "35/35 [==============================] - 0s 5ms/step - loss: 0.0014 - val_loss: 0.0024\n",
      "Epoch 22/27\n",
      "35/35 [==============================] - 0s 4ms/step - loss: 0.0014 - val_loss: 0.0025\n",
      "Epoch 23/27\n",
      "35/35 [==============================] - 0s 4ms/step - loss: 0.0013 - val_loss: 0.0025\n",
      "Epoch 24/27\n",
      "35/35 [==============================] - 0s 4ms/step - loss: 0.0014 - val_loss: 0.0026\n",
      "Epoch 25/27\n",
      "35/35 [==============================] - 0s 5ms/step - loss: 0.0014 - val_loss: 0.0037\n",
      "Epoch 26/27\n",
      "35/35 [==============================] - 0s 5ms/step - loss: 0.0014 - val_loss: 0.0024\n",
      "Epoch 27/27\n",
      "35/35 [==============================] - 0s 5ms/step - loss: 0.0014 - val_loss: 0.0023\n"
     ]
    }
   ],
   "source": [
    "history = model.fit(train_batch_dataset,\n",
    "                    epochs=result['epochs'],\n",
    "                    validation_data=test_batch_dataset)"
   ]
  },
  {
   "cell_type": "code",
   "execution_count": 46,
   "metadata": {},
   "outputs": [],
   "source": [
    "pred = model.predict(train1)"
   ]
  },
  {
   "cell_type": "code",
   "execution_count": 47,
   "metadata": {},
   "outputs": [
    {
     "name": "stdout",
     "output_type": "stream",
     "text": [
      "r^2值为： 0.9398536638589423\n"
     ]
    }
   ],
   "source": [
    "score1=r2_score(train_labels,pred)\n",
    "print('r^2值为：',score1)"
   ]
  },
  {
   "cell_type": "code",
   "execution_count": null,
   "metadata": {},
   "outputs": [],
   "source": []
  }
 ],
 "metadata": {
  "kernelspec": {
   "display_name": "Python 3",
   "language": "python",
   "name": "python3"
  },
  "language_info": {
   "codemirror_mode": {
    "name": "ipython",
    "version": 3
   },
   "file_extension": ".py",
   "mimetype": "text/x-python",
   "name": "python",
   "nbconvert_exporter": "python",
   "pygments_lexer": "ipython3",
   "version": "3.7.0"
  }
 },
 "nbformat": 4,
 "nbformat_minor": 2
}
